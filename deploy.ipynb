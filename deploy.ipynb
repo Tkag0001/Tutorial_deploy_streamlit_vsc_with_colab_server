{
  "cells": [
    {
      "cell_type": "markdown",
      "metadata": {
        "id": "view-in-github",
        "colab_type": "text"
      },
      "source": [
        "<a href=\"https://colab.research.google.com/github/Tkag0001/Tutorial_deploy_streamlit_vsc_with_colab_server/blob/main/deploy.ipynb\" target=\"_parent\"><img src=\"https://colab.research.google.com/assets/colab-badge.svg\" alt=\"Open In Colab\"/></a>"
      ]
    },
    {
      "cell_type": "code",
      "source": [
        "!pip install pyngrok fastapi uvicorn\n",
        "!pip install python-multipart\n",
        "!pip install streamlit"
      ],
      "metadata": {
        "id": "hmskJnGtga0H"
      },
      "execution_count": null,
      "outputs": []
    },
    {
      "cell_type": "code",
      "execution_count": null,
      "metadata": {
        "id": "RCeVuEebgYqC"
      },
      "outputs": [],
      "source": [
        "import os\n",
        "import threading\n",
        "import socket\n",
        "from pyngrok import ngrok, conf\n",
        "from fastapi import FastAPI\n",
        "import uvicorn"
      ]
    },
    {
      "cell_type": "markdown",
      "metadata": {
        "id": "g2MKGXvGgYqE"
      },
      "source": [
        "# Init deploy process"
      ]
    },
    {
      "cell_type": "code",
      "execution_count": null,
      "metadata": {
        "id": "uRPbUvP8gYqF"
      },
      "outputs": [],
      "source": [
        "your_token =\"\" # Input your token"
      ]
    },
    {
      "cell_type": "code",
      "execution_count": null,
      "metadata": {
        "id": "h_MljbJdgYqF"
      },
      "outputs": [],
      "source": [
        "# Set your ngrok auth token\n",
        "print(\"Enter your authtoken, which can be copied from https://dashboard.ngrok.com/get-started/your-authtoken\")\n",
        "os.system(f\"ngrok config add-authtoken {your_token}\")\n",
        "\n",
        "# Initialize FastAPI app\n",
        "app = FastAPI()\n",
        "\n",
        "# Start Streamlit server on a specific port\n",
        "!nohup streamlit run app.py --server.port 8000 &\n",
        "\n",
        "# Open an ngrok tunnel to the HTTP server\n",
        "port = 8000  # Default FastAPI/uvicorn port\n",
        "public_url = ngrok.connect(port).public_url\n",
        "print(f\" * ngrok tunnel \\\"{public_url}\\\" -> \\\"http://127.0.0.1:{port}/\\\"\")\n",
        "\n",
        "# Comment to test deploy streamlit\n",
        "# # Define FastAPI routes\n",
        "# @app.get(\"/\")\n",
        "# async def index():\n",
        "#     hostname = socket.gethostname()\n",
        "#     return {\"message\": \"Hello from Colab!\", \"hostname\": hostname}\n",
        "\n",
        "# @app.get(\"/hello/{name}\")\n",
        "# async def say_hello(name: str):\n",
        "#     return {\"message\": f\"Hello, {name}!\"}\n",
        "\n",
        "# # Start FastAPI server in a separate thread using uvicorn\n",
        "# def start_uvicorn():\n",
        "#     uvicorn.run(app, host=\"0.0.0.0\", port=port)\n",
        "\n",
        "# threading.Thread(target=start_uvicorn, daemon=True).start()"
      ]
    }
  ],
  "metadata": {
    "kernelspec": {
      "display_name": "Python 3 (ipykernel)",
      "language": "python",
      "name": "python3"
    },
    "language_info": {
      "codemirror_mode": {
        "name": "ipython",
        "version": 3
      },
      "file_extension": ".py",
      "mimetype": "text/x-python",
      "name": "python",
      "nbconvert_exporter": "python",
      "pygments_lexer": "ipython3",
      "version": "3.10.12"
    },
    "colab": {
      "provenance": [],
      "include_colab_link": true
    }
  },
  "nbformat": 4,
  "nbformat_minor": 0
}