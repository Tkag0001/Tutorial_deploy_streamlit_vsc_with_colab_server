{
 "cells": [
  {
   "cell_type": "code",
   "execution_count": null,
   "metadata": {
    "colab": {
     "base_uri": "https://localhost:8080/"
    },
    "executionInfo": {
     "elapsed": 23598,
     "status": "ok",
     "timestamp": 1733896608613,
     "user": {
      "displayName": "Trịnh Khang",
      "userId": "06148081847945872900"
     },
     "user_tz": -420
    },
    "id": "2RQxKOO6SK96",
    "outputId": "5afed164-b2d2-4fb0-bc8f-c75adb4a9671"
   },
   "outputs": [],
   "source": [
    "!pip install -U git+https://github.com/amitness/colab-connect.git\n",
    "!pip install pyngrok fastapi uvicorn\n",
    "!pip install python-multipart"
   ]
  },
  {
   "cell_type": "code",
   "execution_count": null,
   "metadata": {
    "colab": {
     "base_uri": "https://localhost:8080/"
    },
    "id": "K6kG5LfZSRET",
    "outputId": "ec91b041-d325-4524-c6b5-c905149fa4a1"
   },
   "outputs": [],
   "source": [
    "#https://www.youtube.com/watch?v=5qQL4Kc3jj4\n",
    "from colabconnect import colabconnect\n",
    "!uname -a\n",
    "colabconnect()"
   ]
  }
 ],
 "metadata": {
  "colab": {
   "authorship_tag": "ABX9TyORiYpmzrb2w8fSOX5j92e0",
   "provenance": []
  },
  "kernelspec": {
   "display_name": "Python 3",
   "name": "python3"
  },
  "language_info": {
   "name": "python"
  }
 },
 "nbformat": 4,
 "nbformat_minor": 0
}
