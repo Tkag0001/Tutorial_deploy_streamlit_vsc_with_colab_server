{
  "cells": [
    {
      "cell_type": "markdown",
      "metadata": {
        "id": "view-in-github",
        "colab_type": "text"
      },
      "source": [
        "<a href=\"https://colab.research.google.com/github/Tkag0001/Tutorial_deploy_streamlit_vsc_with_colab_server/blob/main/connect_vsc.ipynb\" target=\"_parent\"><img src=\"https://colab.research.google.com/assets/colab-badge.svg\" alt=\"Open In Colab\"/></a>"
      ]
    },
    {
      "cell_type": "code",
      "execution_count": null,
      "metadata": {
        "id": "2RQxKOO6SK96"
      },
      "outputs": [],
      "source": [
        "!pip install -U git+https://github.com/amitness/colab-connect.git"
      ]
    },
    {
      "cell_type": "code",
      "execution_count": null,
      "metadata": {
        "id": "K6kG5LfZSRET"
      },
      "outputs": [],
      "source": [
        "#https://www.youtube.com/watch?v=5qQL4Kc3jj4\n",
        "from colabconnect import colabconnect\n",
        "!uname -a\n",
        "colabconnect()"
      ]
    }
  ],
  "metadata": {
    "colab": {
      "provenance": [],
      "include_colab_link": true
    },
    "kernelspec": {
      "display_name": "Python 3",
      "name": "python3"
    },
    "language_info": {
      "name": "python"
    }
  },
  "nbformat": 4,
  "nbformat_minor": 0
}
